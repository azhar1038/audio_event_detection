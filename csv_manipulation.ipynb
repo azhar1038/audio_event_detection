{
 "cells": [
  {
   "cell_type": "code",
   "execution_count": 12,
   "metadata": {},
   "outputs": [],
   "source": [
    "import pandas as pd"
   ]
  },
  {
   "cell_type": "code",
   "execution_count": 13,
   "metadata": {},
   "outputs": [],
   "source": [
    "csv_root = '/media/azhar/DATA/iSmriti/internship/audio_event_detection/csv/'\n",
    "names = ['file', 'onset', 'offset', 'label']"
   ]
  },
  {
   "cell_type": "code",
   "execution_count": 14,
   "metadata": {},
   "outputs": [],
   "source": [
    "babycry = pd.read_csv(f'{csv_root}babycry.csv', sep='\\t', names=names)\n",
    "glassbreak = pd.read_csv(f'{csv_root}glassbreak.csv', sep ='\\t', names=names)\n",
    "gunshot = pd.read_csv(f'{csv_root}gunshot.csv', sep='\\t', names=names)"
   ]
  },
  {
   "cell_type": "code",
   "execution_count": 15,
   "metadata": {
    "scrolled": true
   },
   "outputs": [],
   "source": [
    "babycry = babycry.drop(columns=['onset','offset'])\n",
    "glassbreak = glassbreak.drop(columns=['onset','offset'])\n",
    "gunshot = gunshot.drop(columns=['onset','offset'])"
   ]
  },
  {
   "cell_type": "code",
   "execution_count": 16,
   "metadata": {},
   "outputs": [],
   "source": [
    "babycry.loc[babycry['label'] == 'babycry', 'label'] = 0\n",
    "glassbreak.loc[glassbreak['label'] == 'glassbreak', 'label'] = 1\n",
    "gunshot.loc[gunshot['label'] == 'gunshot', 'label'] = 2"
   ]
  },
  {
   "cell_type": "code",
   "execution_count": 17,
   "metadata": {},
   "outputs": [
    {
     "data": {
      "text/html": [
       "<div>\n",
       "<style scoped>\n",
       "    .dataframe tbody tr th:only-of-type {\n",
       "        vertical-align: middle;\n",
       "    }\n",
       "\n",
       "    .dataframe tbody tr th {\n",
       "        vertical-align: top;\n",
       "    }\n",
       "\n",
       "    .dataframe thead th {\n",
       "        text-align: right;\n",
       "    }\n",
       "</style>\n",
       "<table border=\"1\" class=\"dataframe\">\n",
       "  <thead>\n",
       "    <tr style=\"text-align: right;\">\n",
       "      <th></th>\n",
       "      <th>file</th>\n",
       "      <th>label</th>\n",
       "    </tr>\n",
       "  </thead>\n",
       "  <tbody>\n",
       "    <tr>\n",
       "      <th>0</th>\n",
       "      <td>mixture_devtrain_babycry_000_07a75692b15446e9f...</td>\n",
       "      <td>0</td>\n",
       "    </tr>\n",
       "    <tr>\n",
       "      <th>1</th>\n",
       "      <td>mixture_devtrain_babycry_001_6c193b823c29f4ee3...</td>\n",
       "      <td>0</td>\n",
       "    </tr>\n",
       "    <tr>\n",
       "      <th>2</th>\n",
       "      <td>mixture_devtrain_babycry_002_4f125ae66e5687404...</td>\n",
       "      <td>3</td>\n",
       "    </tr>\n",
       "    <tr>\n",
       "      <th>3</th>\n",
       "      <td>mixture_devtrain_babycry_003_2c5dc0c186ac0a771...</td>\n",
       "      <td>3</td>\n",
       "    </tr>\n",
       "    <tr>\n",
       "      <th>4</th>\n",
       "      <td>mixture_devtrain_babycry_004_2e748c922c0762182...</td>\n",
       "      <td>3</td>\n",
       "    </tr>\n",
       "  </tbody>\n",
       "</table>\n",
       "</div>"
      ],
      "text/plain": [
       "                                                file  label\n",
       "0  mixture_devtrain_babycry_000_07a75692b15446e9f...      0\n",
       "1  mixture_devtrain_babycry_001_6c193b823c29f4ee3...      0\n",
       "2  mixture_devtrain_babycry_002_4f125ae66e5687404...      3\n",
       "3  mixture_devtrain_babycry_003_2c5dc0c186ac0a771...      3\n",
       "4  mixture_devtrain_babycry_004_2e748c922c0762182...      3"
      ]
     },
     "execution_count": 17,
     "metadata": {},
     "output_type": "execute_result"
    }
   ],
   "source": [
    "data = pd.concat([babycry, glassbreak, gunshot])\n",
    "data = data.fillna(value=3)\n",
    "data.head()"
   ]
  },
  {
   "cell_type": "code",
   "execution_count": 18,
   "metadata": {},
   "outputs": [],
   "source": [
    "data.to_csv('main.csv', index=False)"
   ]
  },
  {
   "cell_type": "code",
   "execution_count": null,
   "metadata": {},
   "outputs": [],
   "source": []
  }
 ],
 "metadata": {
  "kernelspec": {
   "display_name": "Python 3",
   "language": "python",
   "name": "python3"
  },
  "language_info": {
   "codemirror_mode": {
    "name": "ipython",
    "version": 3
   },
   "file_extension": ".py",
   "mimetype": "text/x-python",
   "name": "python",
   "nbconvert_exporter": "python",
   "pygments_lexer": "ipython3",
   "version": "3.7.3"
  }
 },
 "nbformat": 4,
 "nbformat_minor": 2
}
